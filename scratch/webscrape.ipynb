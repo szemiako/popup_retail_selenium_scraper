{
 "metadata": {
  "language_info": {
   "codemirror_mode": {
    "name": "ipython",
    "version": 3
   },
   "file_extension": ".py",
   "mimetype": "text/x-python",
   "name": "python",
   "nbconvert_exporter": "python",
   "pygments_lexer": "ipython3",
   "version": "3.8.3"
  },
  "orig_nbformat": 2,
  "kernelspec": {
   "name": "python383jvsc74a57bd0b3ba2566441a7c06988d0923437866b63cedc61552a5af99d1f4fb67d367b25f",
   "display_name": "Python 3.8.3 64-bit ('base': conda)"
  }
 },
 "nbformat": 4,
 "nbformat_minor": 2,
 "cells": [
  {
   "cell_type": "code",
   "execution_count": 10,
   "metadata": {},
   "outputs": [],
   "source": [
    "from bs4 import BeautifulSoup\n",
    "import json\n",
    "import pandas as pd\n",
    "from pandas import DataFrame\n",
    "import numpy as np\n",
    "import re\n",
    "import requests\n",
    "import xml.etree.ElementTree as et"
   ]
  },
  {
   "cell_type": "code",
   "execution_count": 11,
   "metadata": {},
   "outputs": [],
   "source": [
    "url = 'https://www.thestorefront.com/sitemap.xml'\n",
    "r = requests.get(url)\n",
    "xml = r.text"
   ]
  },
  {
   "cell_type": "code",
   "execution_count": 12,
   "metadata": {},
   "outputs": [],
   "source": [
    "soup = BeautifulSoup(xml)\n",
    "locs = soup.find_all('loc')"
   ]
  },
  {
   "cell_type": "code",
   "execution_count": null,
   "metadata": {
    "tags": []
   },
   "outputs": [],
   "source": [
    "raw_pages = {}\n",
    "n = 0\n",
    "\n",
    "for i, v in enumerate(locs):\n",
    "    pattern = re.compile(r'/united-states/new-york/')\n",
    "    to_search = v.text\n",
    "    if pattern.search(to_search):\n",
    "        r = requests.get(to_search)\n",
    "        attrib = BeautifulSoup(r.text)\n",
    "        raw_pages[to_search] = attrib.find_all('div', {'class': 'information'})\n",
    "        raw_pages[to_search].extend(attrib.find_all('div', {'class': 'listing-information'}))\n",
    "\n",
    "    if n > 0:\n",
    "        if len(list(raw_pages.keys())) > n: break"
   ]
  },
  {
   "cell_type": "code",
   "execution_count": null,
   "metadata": {},
   "outputs": [],
   "source": [
    "attributes = {\n",
    "    'Pricing': r'class=\"pricing-value\" content=\"[\\d]+\"',\n",
    "    # 'Price Per Day': r'<span class=\"pricing-value\">[\\d\\$\\,\\.]+</span>',\n",
    "    'Minimum': r'Minimum Rental.*[\\w\\d ]+</div>',\n",
    "    'Maximum': r'Maximum Rental.*[\\w\\d ]+</div>',\n",
    "    'Space Type': r'Space Type.*id=\"space-types-link\">[\\w ]+</a>',\n",
    "    'FloorAccess': r'Floor/Access.*[\\w ]+</div>',\n",
    "    'Rental Capacity': r'Rental Capacity.*[\\w ]+</div>',\n",
    "    'Size': r'Size.*[\\d\\w, ]+</div>',\n",
    "    'Ref': r'Ref Number.*[\\d]+</div>'\n",
    "}"
   ]
  },
  {
   "cell_type": "code",
   "execution_count": null,
   "metadata": {
    "tags": []
   },
   "outputs": [],
   "source": [
    "parsed = {}\n",
    "for page in raw_pages:\n",
    "    parsed[page] = {}\n",
    "    for prop in raw_pages[page]:\n",
    "        for attrib in attributes:\n",
    "            pattern = re.compile(attributes[attrib])\n",
    "            matches = pattern.search(str(prop))\n",
    "            if matches:\n",
    "                parsed[page][attrib] = matches.group(0)"
   ]
  },
  {
   "cell_type": "code",
   "execution_count": null,
   "metadata": {},
   "outputs": [],
   "source": [
    "target_values = {\n",
    "    # 'Price Per Day': r'[\\d\\$\\,\\.]+',\n",
    "    'Pricing': r'[\\d]+',\n",
    "    'Minimum': r'[\\w\\d ]+',\n",
    "    'Maximum': r'[\\w\\d ]+',\n",
    "    'Space Type': r'[\\w ]+',\n",
    "    'FloorAccess': r'[\\w ]+',\n",
    "    'Rental Capacity': r'[\\w ]+',\n",
    "    'Size': r'[\\d\\w, ]+',\n",
    "    'Ref': r'[\\d]+'\n",
    "}"
   ]
  },
  {
   "cell_type": "code",
   "execution_count": null,
   "metadata": {
    "tags": []
   },
   "outputs": [],
   "source": [
    "cleaned = {}\n",
    "for parse in parsed:\n",
    "    cleaned[parse] = {}\n",
    "    for prop in parsed[parse]:\n",
    "        for attrib in target_values:\n",
    "            if not attrib == 'Pricing':\n",
    "                pat = f'>{target_values[attrib]}<'\n",
    "            else:\n",
    "                pat = target_values[attrib]\n",
    "            pattern = re.compile(pat)\n",
    "            matches = pattern.search(parsed[parse][prop])\n",
    "            if matches:\n",
    "                cleaned[parse][prop] = re.sub('<|>', '', matches.group(0))"
   ]
  },
  {
   "cell_type": "code",
   "execution_count": null,
   "metadata": {},
   "outputs": [],
   "source": [
    "df = DataFrame(cleaned.values())\n",
    "df['URL'] = list(cleaned.keys())\n",
    "df.to_csv(f'prep_storefront_first_{n}_results.csv', index=False)"
   ]
  },
  {
   "cell_type": "code",
   "execution_count": null,
   "metadata": {},
   "outputs": [],
   "source": []
  }
 ]
}